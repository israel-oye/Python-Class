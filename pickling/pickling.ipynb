{
 "cells": [
  {
   "cell_type": "markdown",
   "id": "0f9cebae",
   "metadata": {},
   "source": [
    "# Pickling in Python\n",
    "\n",
    "> Pickling is Python-specific serialization to binary format.\n",
    "\n",
    "With pickling, we can save Python objects, including:\n",
    "- Classes\n",
    "- Functions\n",
    "- Tuples, sets\n",
    "- ML models\n",
    "\n",
    "to a file.\n",
    "Note that pickle files are not text files but binary files, so open for writing in binary mode, and that means adding an extra 'b' in the mode e.g: `open('file.pkl', 'wb')`"
   ]
  },
  {
   "cell_type": "code",
   "execution_count": null,
   "id": "3c18df07",
   "metadata": {},
   "outputs": [
    {
     "name": "stdout",
     "output_type": "stream",
     "text": [
      "b'\\x80\\x04\\x95\\x13\\x00\\x00\\x00\\x00\\x00\\x00\\x00}\\x94\\x8c\\x04name\\x94\\x8c\\x05Shogo\\x94s.'\n"
     ]
    }
   ],
   "source": [
    "import pickle\n",
    "\n",
    "user_data = {'name': 'Shogo'}\n",
    "b = pickle.dumps(user_data)\n",
    "print(b)\n",
    "\n",
    "with open('user-data.pkl', 'wb') as pkl_file:\n",
    "    pickle.dump(user_data, pkl_file)\n"
   ]
  },
  {
   "cell_type": "code",
   "execution_count": null,
   "id": "c550ac5c",
   "metadata": {},
   "outputs": [
    {
     "name": "stdout",
     "output_type": "stream",
     "text": [
      "<class 'dict'>\n",
      "{'name': 'Shogo'}\n"
     ]
    }
   ],
   "source": [
    "import pickle\n",
    "\n",
    "# I changed the file name because the pickle file was originally in the same directory level\n",
    "with open('../user-data.pkl', 'rb') as pkl_file:\n",
    "    unpickled_obj = pickle.load(pkl_file)\n",
    "    \n",
    "print(type(unpickled_obj))\n",
    "print(unpickled_obj)"
   ]
  },
  {
   "cell_type": "code",
   "execution_count": 3,
   "id": "d162df29",
   "metadata": {},
   "outputs": [],
   "source": [
    "# Serializing to Pickle file\n",
    "import pickle\n",
    "\n",
    "class Animal:\n",
    "    def move(self):\n",
    "        print('Moving...')\n",
    "\n",
    "    def eat(self):\n",
    "        print('Eating food')\n",
    "    \n",
    "\n",
    "with open('animal.pkl', 'wb') as animal_pkl_file:\n",
    "    pickle.dump(Animal, animal_pkl_file)"
   ]
  },
  {
   "cell_type": "code",
   "execution_count": 4,
   "id": "3ca48742",
   "metadata": {},
   "outputs": [
    {
     "name": "stdout",
     "output_type": "stream",
     "text": [
      "Moving...\n",
      "Eating food\n"
     ]
    }
   ],
   "source": [
    "# Deserializing from Pickle file\n",
    "import pickle\n",
    "\n",
    "with open('animal.pkl', 'rb') as pkl_file:\n",
    "    Animal = pickle.load(pkl_file)\n",
    "\n",
    "# print(Animal.__dict__)\n",
    "animal = Animal()\n",
    "animal.move()\n",
    "animal.eat()"
   ]
  }
 ],
 "metadata": {
  "kernelspec": {
   "display_name": "Python 3",
   "language": "python",
   "name": "python3"
  },
  "language_info": {
   "codemirror_mode": {
    "name": "ipython",
    "version": 3
   },
   "file_extension": ".py",
   "mimetype": "text/x-python",
   "name": "python",
   "nbconvert_exporter": "python",
   "pygments_lexer": "ipython3",
   "version": "3.11.8"
  }
 },
 "nbformat": 4,
 "nbformat_minor": 5
}
